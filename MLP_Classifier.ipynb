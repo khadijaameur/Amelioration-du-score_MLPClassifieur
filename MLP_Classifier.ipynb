{
 "cells": [
  {
   "cell_type": "markdown",
   "id": "ad878798",
   "metadata": {},
   "source": [
    "# TP6 : Amélioration du score du MLPClassifieur"
   ]
  },
  {
   "cell_type": "markdown",
   "id": "ad58755a",
   "metadata": {},
   "source": [
    "### importation des bibliotheques necéssaires ainsi que la dataset."
   ]
  },
  {
   "cell_type": "code",
   "execution_count": 1,
   "id": "aea2c5da",
   "metadata": {},
   "outputs": [],
   "source": [
    "import numpy as np\n",
    "import pandas as pd\n"
   ]
  },
  {
   "cell_type": "code",
   "execution_count": 2,
   "id": "3b4d02d4",
   "metadata": {},
   "outputs": [],
   "source": [
    "data=pd.read_csv(\"traaaaaaaaaaiiin.csv\")"
   ]
  },
  {
   "cell_type": "code",
   "execution_count": 3,
   "id": "fac88f56",
   "metadata": {},
   "outputs": [
    {
     "data": {
      "text/html": [
       "<div>\n",
       "<style scoped>\n",
       "    .dataframe tbody tr th:only-of-type {\n",
       "        vertical-align: middle;\n",
       "    }\n",
       "\n",
       "    .dataframe tbody tr th {\n",
       "        vertical-align: top;\n",
       "    }\n",
       "\n",
       "    .dataframe thead th {\n",
       "        text-align: right;\n",
       "    }\n",
       "</style>\n",
       "<table border=\"1\" class=\"dataframe\">\n",
       "  <thead>\n",
       "    <tr style=\"text-align: right;\">\n",
       "      <th></th>\n",
       "      <th>PassengerId</th>\n",
       "      <th>Survived</th>\n",
       "      <th>Pclass</th>\n",
       "      <th>Name</th>\n",
       "      <th>Sex</th>\n",
       "      <th>Age</th>\n",
       "      <th>SibSp</th>\n",
       "      <th>Parch</th>\n",
       "      <th>Ticket</th>\n",
       "      <th>Fare</th>\n",
       "      <th>Cabin</th>\n",
       "      <th>Embarked</th>\n",
       "    </tr>\n",
       "  </thead>\n",
       "  <tbody>\n",
       "    <tr>\n",
       "      <th>0</th>\n",
       "      <td>1</td>\n",
       "      <td>0</td>\n",
       "      <td>3</td>\n",
       "      <td>Braund, Mr. Owen Harris</td>\n",
       "      <td>male</td>\n",
       "      <td>22.0</td>\n",
       "      <td>1</td>\n",
       "      <td>0</td>\n",
       "      <td>A/5 21171</td>\n",
       "      <td>7.2500</td>\n",
       "      <td>NaN</td>\n",
       "      <td>S</td>\n",
       "    </tr>\n",
       "    <tr>\n",
       "      <th>1</th>\n",
       "      <td>2</td>\n",
       "      <td>1</td>\n",
       "      <td>1</td>\n",
       "      <td>Cumings, Mrs. John Bradley (Florence Briggs Th...</td>\n",
       "      <td>female</td>\n",
       "      <td>38.0</td>\n",
       "      <td>1</td>\n",
       "      <td>0</td>\n",
       "      <td>PC 17599</td>\n",
       "      <td>71.2833</td>\n",
       "      <td>C85</td>\n",
       "      <td>C</td>\n",
       "    </tr>\n",
       "    <tr>\n",
       "      <th>2</th>\n",
       "      <td>3</td>\n",
       "      <td>1</td>\n",
       "      <td>3</td>\n",
       "      <td>Heikkinen, Miss. Laina</td>\n",
       "      <td>female</td>\n",
       "      <td>26.0</td>\n",
       "      <td>0</td>\n",
       "      <td>0</td>\n",
       "      <td>STON/O2. 3101282</td>\n",
       "      <td>7.9250</td>\n",
       "      <td>NaN</td>\n",
       "      <td>S</td>\n",
       "    </tr>\n",
       "    <tr>\n",
       "      <th>3</th>\n",
       "      <td>4</td>\n",
       "      <td>1</td>\n",
       "      <td>1</td>\n",
       "      <td>Futrelle, Mrs. Jacques Heath (Lily May Peel)</td>\n",
       "      <td>female</td>\n",
       "      <td>35.0</td>\n",
       "      <td>1</td>\n",
       "      <td>0</td>\n",
       "      <td>113803</td>\n",
       "      <td>53.1000</td>\n",
       "      <td>C123</td>\n",
       "      <td>S</td>\n",
       "    </tr>\n",
       "    <tr>\n",
       "      <th>4</th>\n",
       "      <td>5</td>\n",
       "      <td>0</td>\n",
       "      <td>3</td>\n",
       "      <td>Allen, Mr. William Henry</td>\n",
       "      <td>male</td>\n",
       "      <td>35.0</td>\n",
       "      <td>0</td>\n",
       "      <td>0</td>\n",
       "      <td>373450</td>\n",
       "      <td>8.0500</td>\n",
       "      <td>NaN</td>\n",
       "      <td>S</td>\n",
       "    </tr>\n",
       "  </tbody>\n",
       "</table>\n",
       "</div>"
      ],
      "text/plain": [
       "   PassengerId  Survived  Pclass  \\\n",
       "0            1         0       3   \n",
       "1            2         1       1   \n",
       "2            3         1       3   \n",
       "3            4         1       1   \n",
       "4            5         0       3   \n",
       "\n",
       "                                                Name     Sex   Age  SibSp  \\\n",
       "0                            Braund, Mr. Owen Harris    male  22.0      1   \n",
       "1  Cumings, Mrs. John Bradley (Florence Briggs Th...  female  38.0      1   \n",
       "2                             Heikkinen, Miss. Laina  female  26.0      0   \n",
       "3       Futrelle, Mrs. Jacques Heath (Lily May Peel)  female  35.0      1   \n",
       "4                           Allen, Mr. William Henry    male  35.0      0   \n",
       "\n",
       "   Parch            Ticket     Fare Cabin Embarked  \n",
       "0      0         A/5 21171   7.2500   NaN        S  \n",
       "1      0          PC 17599  71.2833   C85        C  \n",
       "2      0  STON/O2. 3101282   7.9250   NaN        S  \n",
       "3      0            113803  53.1000  C123        S  \n",
       "4      0            373450   8.0500   NaN        S  "
      ]
     },
     "execution_count": 3,
     "metadata": {},
     "output_type": "execute_result"
    }
   ],
   "source": [
    "data.head()"
   ]
  },
  {
   "cell_type": "code",
   "execution_count": 4,
   "id": "405eec04",
   "metadata": {},
   "outputs": [
    {
     "data": {
      "text/html": [
       "<div>\n",
       "<style scoped>\n",
       "    .dataframe tbody tr th:only-of-type {\n",
       "        vertical-align: middle;\n",
       "    }\n",
       "\n",
       "    .dataframe tbody tr th {\n",
       "        vertical-align: top;\n",
       "    }\n",
       "\n",
       "    .dataframe thead th {\n",
       "        text-align: right;\n",
       "    }\n",
       "</style>\n",
       "<table border=\"1\" class=\"dataframe\">\n",
       "  <thead>\n",
       "    <tr style=\"text-align: right;\">\n",
       "      <th></th>\n",
       "      <th>PassengerId</th>\n",
       "      <th>Survived</th>\n",
       "      <th>Pclass</th>\n",
       "      <th>Age</th>\n",
       "      <th>SibSp</th>\n",
       "      <th>Parch</th>\n",
       "      <th>Fare</th>\n",
       "    </tr>\n",
       "  </thead>\n",
       "  <tbody>\n",
       "    <tr>\n",
       "      <th>count</th>\n",
       "      <td>891.000000</td>\n",
       "      <td>891.000000</td>\n",
       "      <td>891.000000</td>\n",
       "      <td>714.000000</td>\n",
       "      <td>891.000000</td>\n",
       "      <td>891.000000</td>\n",
       "      <td>891.000000</td>\n",
       "    </tr>\n",
       "    <tr>\n",
       "      <th>mean</th>\n",
       "      <td>446.000000</td>\n",
       "      <td>0.383838</td>\n",
       "      <td>2.308642</td>\n",
       "      <td>29.699118</td>\n",
       "      <td>0.523008</td>\n",
       "      <td>0.381594</td>\n",
       "      <td>32.204208</td>\n",
       "    </tr>\n",
       "    <tr>\n",
       "      <th>std</th>\n",
       "      <td>257.353842</td>\n",
       "      <td>0.486592</td>\n",
       "      <td>0.836071</td>\n",
       "      <td>14.526497</td>\n",
       "      <td>1.102743</td>\n",
       "      <td>0.806057</td>\n",
       "      <td>49.693429</td>\n",
       "    </tr>\n",
       "    <tr>\n",
       "      <th>min</th>\n",
       "      <td>1.000000</td>\n",
       "      <td>0.000000</td>\n",
       "      <td>1.000000</td>\n",
       "      <td>0.420000</td>\n",
       "      <td>0.000000</td>\n",
       "      <td>0.000000</td>\n",
       "      <td>0.000000</td>\n",
       "    </tr>\n",
       "    <tr>\n",
       "      <th>25%</th>\n",
       "      <td>223.500000</td>\n",
       "      <td>0.000000</td>\n",
       "      <td>2.000000</td>\n",
       "      <td>20.125000</td>\n",
       "      <td>0.000000</td>\n",
       "      <td>0.000000</td>\n",
       "      <td>7.910400</td>\n",
       "    </tr>\n",
       "    <tr>\n",
       "      <th>50%</th>\n",
       "      <td>446.000000</td>\n",
       "      <td>0.000000</td>\n",
       "      <td>3.000000</td>\n",
       "      <td>28.000000</td>\n",
       "      <td>0.000000</td>\n",
       "      <td>0.000000</td>\n",
       "      <td>14.454200</td>\n",
       "    </tr>\n",
       "    <tr>\n",
       "      <th>75%</th>\n",
       "      <td>668.500000</td>\n",
       "      <td>1.000000</td>\n",
       "      <td>3.000000</td>\n",
       "      <td>38.000000</td>\n",
       "      <td>1.000000</td>\n",
       "      <td>0.000000</td>\n",
       "      <td>31.000000</td>\n",
       "    </tr>\n",
       "    <tr>\n",
       "      <th>max</th>\n",
       "      <td>891.000000</td>\n",
       "      <td>1.000000</td>\n",
       "      <td>3.000000</td>\n",
       "      <td>80.000000</td>\n",
       "      <td>8.000000</td>\n",
       "      <td>6.000000</td>\n",
       "      <td>512.329200</td>\n",
       "    </tr>\n",
       "  </tbody>\n",
       "</table>\n",
       "</div>"
      ],
      "text/plain": [
       "       PassengerId    Survived      Pclass         Age       SibSp  \\\n",
       "count   891.000000  891.000000  891.000000  714.000000  891.000000   \n",
       "mean    446.000000    0.383838    2.308642   29.699118    0.523008   \n",
       "std     257.353842    0.486592    0.836071   14.526497    1.102743   \n",
       "min       1.000000    0.000000    1.000000    0.420000    0.000000   \n",
       "25%     223.500000    0.000000    2.000000   20.125000    0.000000   \n",
       "50%     446.000000    0.000000    3.000000   28.000000    0.000000   \n",
       "75%     668.500000    1.000000    3.000000   38.000000    1.000000   \n",
       "max     891.000000    1.000000    3.000000   80.000000    8.000000   \n",
       "\n",
       "            Parch        Fare  \n",
       "count  891.000000  891.000000  \n",
       "mean     0.381594   32.204208  \n",
       "std      0.806057   49.693429  \n",
       "min      0.000000    0.000000  \n",
       "25%      0.000000    7.910400  \n",
       "50%      0.000000   14.454200  \n",
       "75%      0.000000   31.000000  \n",
       "max      6.000000  512.329200  "
      ]
     },
     "execution_count": 4,
     "metadata": {},
     "output_type": "execute_result"
    }
   ],
   "source": [
    "data.describe()"
   ]
  },
  {
   "cell_type": "code",
   "execution_count": 6,
   "id": "e1d6e3a1",
   "metadata": {},
   "outputs": [
    {
     "name": "stdout",
     "output_type": "stream",
     "text": [
      "<class 'pandas.core.frame.DataFrame'>\n",
      "RangeIndex: 891 entries, 0 to 890\n",
      "Data columns (total 12 columns):\n",
      " #   Column       Non-Null Count  Dtype  \n",
      "---  ------       --------------  -----  \n",
      " 0   PassengerId  891 non-null    int64  \n",
      " 1   Survived     891 non-null    int64  \n",
      " 2   Pclass       891 non-null    int64  \n",
      " 3   Name         891 non-null    object \n",
      " 4   Sex          891 non-null    object \n",
      " 5   Age          714 non-null    float64\n",
      " 6   SibSp        891 non-null    int64  \n",
      " 7   Parch        891 non-null    int64  \n",
      " 8   Ticket       891 non-null    object \n",
      " 9   Fare         891 non-null    float64\n",
      " 10  Cabin        204 non-null    object \n",
      " 11  Embarked     889 non-null    object \n",
      "dtypes: float64(2), int64(5), object(5)\n",
      "memory usage: 83.7+ KB\n"
     ]
    }
   ],
   "source": [
    "data.info()"
   ]
  },
  {
   "cell_type": "markdown",
   "id": "4f693578",
   "metadata": {},
   "source": [
    "## Extraction des caracteristiques"
   ]
  },
  {
   "cell_type": "code",
   "execution_count": 7,
   "id": "6fb05e98",
   "metadata": {},
   "outputs": [],
   "source": [
    "data=data.drop([\"Name\",\"Ticket\",\"Cabin\"], axis=1)"
   ]
  },
  {
   "cell_type": "markdown",
   "id": "6c3e1086",
   "metadata": {},
   "source": [
    "* nous avons supprimer la colonne name puisqu' on a toutes les informations neccessaire qu'on peut extraire de cette   derniere  dans la collone sex et on a fait la  meme chose pour la colone ticket puisq'il importe la  meme     information que la colonne classe "
   ]
  },
  {
   "cell_type": "markdown",
   "id": "6c663a01",
   "metadata": {},
   "source": [
    "#### encodages de la colonne Sex"
   ]
  },
  {
   "cell_type": "code",
   "execution_count": 9,
   "id": "03f283c4",
   "metadata": {},
   "outputs": [],
   "source": [
    "data[\"Sex\"].replace({\"male\": 0, \"female\": 1}, inplace=True)"
   ]
  },
  {
   "cell_type": "markdown",
   "id": "d97d5fe0",
   "metadata": {},
   "source": [
    "#### Suprimmer les valeurs manquantes "
   ]
  },
  {
   "cell_type": "code",
   "execution_count": 8,
   "id": "8beb3d3b",
   "metadata": {},
   "outputs": [],
   "source": [
    "data=data.dropna()"
   ]
  },
  {
   "cell_type": "code",
   "execution_count": 11,
   "id": "b0f49164",
   "metadata": {},
   "outputs": [
    {
     "data": {
      "text/plain": [
       "0"
      ]
     },
     "execution_count": 11,
     "metadata": {},
     "output_type": "execute_result"
    }
   ],
   "source": [
    "data[\"Embarked\"].isna().sum()"
   ]
  },
  {
   "cell_type": "code",
   "execution_count": 10,
   "id": "814a4ffa",
   "metadata": {},
   "outputs": [
    {
     "data": {
      "text/html": [
       "<div>\n",
       "<style scoped>\n",
       "    .dataframe tbody tr th:only-of-type {\n",
       "        vertical-align: middle;\n",
       "    }\n",
       "\n",
       "    .dataframe tbody tr th {\n",
       "        vertical-align: top;\n",
       "    }\n",
       "\n",
       "    .dataframe thead th {\n",
       "        text-align: right;\n",
       "    }\n",
       "</style>\n",
       "<table border=\"1\" class=\"dataframe\">\n",
       "  <thead>\n",
       "    <tr style=\"text-align: right;\">\n",
       "      <th></th>\n",
       "      <th>PassengerId</th>\n",
       "      <th>Survived</th>\n",
       "      <th>Pclass</th>\n",
       "      <th>Sex</th>\n",
       "      <th>Age</th>\n",
       "      <th>SibSp</th>\n",
       "      <th>Parch</th>\n",
       "      <th>Fare</th>\n",
       "      <th>Embarked</th>\n",
       "    </tr>\n",
       "  </thead>\n",
       "  <tbody>\n",
       "    <tr>\n",
       "      <th>0</th>\n",
       "      <td>1</td>\n",
       "      <td>0</td>\n",
       "      <td>3</td>\n",
       "      <td>0</td>\n",
       "      <td>22.0</td>\n",
       "      <td>1</td>\n",
       "      <td>0</td>\n",
       "      <td>7.2500</td>\n",
       "      <td>S</td>\n",
       "    </tr>\n",
       "    <tr>\n",
       "      <th>1</th>\n",
       "      <td>2</td>\n",
       "      <td>1</td>\n",
       "      <td>1</td>\n",
       "      <td>1</td>\n",
       "      <td>38.0</td>\n",
       "      <td>1</td>\n",
       "      <td>0</td>\n",
       "      <td>71.2833</td>\n",
       "      <td>C</td>\n",
       "    </tr>\n",
       "    <tr>\n",
       "      <th>2</th>\n",
       "      <td>3</td>\n",
       "      <td>1</td>\n",
       "      <td>3</td>\n",
       "      <td>1</td>\n",
       "      <td>26.0</td>\n",
       "      <td>0</td>\n",
       "      <td>0</td>\n",
       "      <td>7.9250</td>\n",
       "      <td>S</td>\n",
       "    </tr>\n",
       "    <tr>\n",
       "      <th>3</th>\n",
       "      <td>4</td>\n",
       "      <td>1</td>\n",
       "      <td>1</td>\n",
       "      <td>1</td>\n",
       "      <td>35.0</td>\n",
       "      <td>1</td>\n",
       "      <td>0</td>\n",
       "      <td>53.1000</td>\n",
       "      <td>S</td>\n",
       "    </tr>\n",
       "    <tr>\n",
       "      <th>4</th>\n",
       "      <td>5</td>\n",
       "      <td>0</td>\n",
       "      <td>3</td>\n",
       "      <td>0</td>\n",
       "      <td>35.0</td>\n",
       "      <td>0</td>\n",
       "      <td>0</td>\n",
       "      <td>8.0500</td>\n",
       "      <td>S</td>\n",
       "    </tr>\n",
       "    <tr>\n",
       "      <th>...</th>\n",
       "      <td>...</td>\n",
       "      <td>...</td>\n",
       "      <td>...</td>\n",
       "      <td>...</td>\n",
       "      <td>...</td>\n",
       "      <td>...</td>\n",
       "      <td>...</td>\n",
       "      <td>...</td>\n",
       "      <td>...</td>\n",
       "    </tr>\n",
       "    <tr>\n",
       "      <th>885</th>\n",
       "      <td>886</td>\n",
       "      <td>0</td>\n",
       "      <td>3</td>\n",
       "      <td>1</td>\n",
       "      <td>39.0</td>\n",
       "      <td>0</td>\n",
       "      <td>5</td>\n",
       "      <td>29.1250</td>\n",
       "      <td>Q</td>\n",
       "    </tr>\n",
       "    <tr>\n",
       "      <th>886</th>\n",
       "      <td>887</td>\n",
       "      <td>0</td>\n",
       "      <td>2</td>\n",
       "      <td>0</td>\n",
       "      <td>27.0</td>\n",
       "      <td>0</td>\n",
       "      <td>0</td>\n",
       "      <td>13.0000</td>\n",
       "      <td>S</td>\n",
       "    </tr>\n",
       "    <tr>\n",
       "      <th>887</th>\n",
       "      <td>888</td>\n",
       "      <td>1</td>\n",
       "      <td>1</td>\n",
       "      <td>1</td>\n",
       "      <td>19.0</td>\n",
       "      <td>0</td>\n",
       "      <td>0</td>\n",
       "      <td>30.0000</td>\n",
       "      <td>S</td>\n",
       "    </tr>\n",
       "    <tr>\n",
       "      <th>889</th>\n",
       "      <td>890</td>\n",
       "      <td>1</td>\n",
       "      <td>1</td>\n",
       "      <td>0</td>\n",
       "      <td>26.0</td>\n",
       "      <td>0</td>\n",
       "      <td>0</td>\n",
       "      <td>30.0000</td>\n",
       "      <td>C</td>\n",
       "    </tr>\n",
       "    <tr>\n",
       "      <th>890</th>\n",
       "      <td>891</td>\n",
       "      <td>0</td>\n",
       "      <td>3</td>\n",
       "      <td>0</td>\n",
       "      <td>32.0</td>\n",
       "      <td>0</td>\n",
       "      <td>0</td>\n",
       "      <td>7.7500</td>\n",
       "      <td>Q</td>\n",
       "    </tr>\n",
       "  </tbody>\n",
       "</table>\n",
       "<p>712 rows × 9 columns</p>\n",
       "</div>"
      ],
      "text/plain": [
       "     PassengerId  Survived  Pclass  Sex   Age  SibSp  Parch     Fare Embarked\n",
       "0              1         0       3    0  22.0      1      0   7.2500        S\n",
       "1              2         1       1    1  38.0      1      0  71.2833        C\n",
       "2              3         1       3    1  26.0      0      0   7.9250        S\n",
       "3              4         1       1    1  35.0      1      0  53.1000        S\n",
       "4              5         0       3    0  35.0      0      0   8.0500        S\n",
       "..           ...       ...     ...  ...   ...    ...    ...      ...      ...\n",
       "885          886         0       3    1  39.0      0      5  29.1250        Q\n",
       "886          887         0       2    0  27.0      0      0  13.0000        S\n",
       "887          888         1       1    1  19.0      0      0  30.0000        S\n",
       "889          890         1       1    0  26.0      0      0  30.0000        C\n",
       "890          891         0       3    0  32.0      0      0   7.7500        Q\n",
       "\n",
       "[712 rows x 9 columns]"
      ]
     },
     "execution_count": 10,
     "metadata": {},
     "output_type": "execute_result"
    }
   ],
   "source": [
    "data"
   ]
  },
  {
   "cell_type": "markdown",
   "id": "c023c308",
   "metadata": {},
   "source": [
    "#### data apres l'affichage"
   ]
  },
  {
   "cell_type": "code",
   "execution_count": 12,
   "id": "b5d56174",
   "metadata": {},
   "outputs": [
    {
     "data": {
      "text/html": [
       "<div>\n",
       "<style scoped>\n",
       "    .dataframe tbody tr th:only-of-type {\n",
       "        vertical-align: middle;\n",
       "    }\n",
       "\n",
       "    .dataframe tbody tr th {\n",
       "        vertical-align: top;\n",
       "    }\n",
       "\n",
       "    .dataframe thead th {\n",
       "        text-align: right;\n",
       "    }\n",
       "</style>\n",
       "<table border=\"1\" class=\"dataframe\">\n",
       "  <thead>\n",
       "    <tr style=\"text-align: right;\">\n",
       "      <th></th>\n",
       "      <th>PassengerId</th>\n",
       "      <th>Survived</th>\n",
       "      <th>Pclass</th>\n",
       "      <th>Sex</th>\n",
       "      <th>Age</th>\n",
       "      <th>SibSp</th>\n",
       "      <th>Parch</th>\n",
       "      <th>Fare</th>\n",
       "      <th>Embarked</th>\n",
       "    </tr>\n",
       "  </thead>\n",
       "  <tbody>\n",
       "    <tr>\n",
       "      <th>0</th>\n",
       "      <td>1</td>\n",
       "      <td>0</td>\n",
       "      <td>3</td>\n",
       "      <td>0</td>\n",
       "      <td>22.0</td>\n",
       "      <td>1</td>\n",
       "      <td>0</td>\n",
       "      <td>7.2500</td>\n",
       "      <td>S</td>\n",
       "    </tr>\n",
       "    <tr>\n",
       "      <th>1</th>\n",
       "      <td>2</td>\n",
       "      <td>1</td>\n",
       "      <td>1</td>\n",
       "      <td>1</td>\n",
       "      <td>38.0</td>\n",
       "      <td>1</td>\n",
       "      <td>0</td>\n",
       "      <td>71.2833</td>\n",
       "      <td>C</td>\n",
       "    </tr>\n",
       "    <tr>\n",
       "      <th>2</th>\n",
       "      <td>3</td>\n",
       "      <td>1</td>\n",
       "      <td>3</td>\n",
       "      <td>1</td>\n",
       "      <td>26.0</td>\n",
       "      <td>0</td>\n",
       "      <td>0</td>\n",
       "      <td>7.9250</td>\n",
       "      <td>S</td>\n",
       "    </tr>\n",
       "    <tr>\n",
       "      <th>3</th>\n",
       "      <td>4</td>\n",
       "      <td>1</td>\n",
       "      <td>1</td>\n",
       "      <td>1</td>\n",
       "      <td>35.0</td>\n",
       "      <td>1</td>\n",
       "      <td>0</td>\n",
       "      <td>53.1000</td>\n",
       "      <td>S</td>\n",
       "    </tr>\n",
       "    <tr>\n",
       "      <th>4</th>\n",
       "      <td>5</td>\n",
       "      <td>0</td>\n",
       "      <td>3</td>\n",
       "      <td>0</td>\n",
       "      <td>35.0</td>\n",
       "      <td>0</td>\n",
       "      <td>0</td>\n",
       "      <td>8.0500</td>\n",
       "      <td>S</td>\n",
       "    </tr>\n",
       "    <tr>\n",
       "      <th>...</th>\n",
       "      <td>...</td>\n",
       "      <td>...</td>\n",
       "      <td>...</td>\n",
       "      <td>...</td>\n",
       "      <td>...</td>\n",
       "      <td>...</td>\n",
       "      <td>...</td>\n",
       "      <td>...</td>\n",
       "      <td>...</td>\n",
       "    </tr>\n",
       "    <tr>\n",
       "      <th>885</th>\n",
       "      <td>886</td>\n",
       "      <td>0</td>\n",
       "      <td>3</td>\n",
       "      <td>1</td>\n",
       "      <td>39.0</td>\n",
       "      <td>0</td>\n",
       "      <td>5</td>\n",
       "      <td>29.1250</td>\n",
       "      <td>Q</td>\n",
       "    </tr>\n",
       "    <tr>\n",
       "      <th>886</th>\n",
       "      <td>887</td>\n",
       "      <td>0</td>\n",
       "      <td>2</td>\n",
       "      <td>0</td>\n",
       "      <td>27.0</td>\n",
       "      <td>0</td>\n",
       "      <td>0</td>\n",
       "      <td>13.0000</td>\n",
       "      <td>S</td>\n",
       "    </tr>\n",
       "    <tr>\n",
       "      <th>887</th>\n",
       "      <td>888</td>\n",
       "      <td>1</td>\n",
       "      <td>1</td>\n",
       "      <td>1</td>\n",
       "      <td>19.0</td>\n",
       "      <td>0</td>\n",
       "      <td>0</td>\n",
       "      <td>30.0000</td>\n",
       "      <td>S</td>\n",
       "    </tr>\n",
       "    <tr>\n",
       "      <th>889</th>\n",
       "      <td>890</td>\n",
       "      <td>1</td>\n",
       "      <td>1</td>\n",
       "      <td>0</td>\n",
       "      <td>26.0</td>\n",
       "      <td>0</td>\n",
       "      <td>0</td>\n",
       "      <td>30.0000</td>\n",
       "      <td>C</td>\n",
       "    </tr>\n",
       "    <tr>\n",
       "      <th>890</th>\n",
       "      <td>891</td>\n",
       "      <td>0</td>\n",
       "      <td>3</td>\n",
       "      <td>0</td>\n",
       "      <td>32.0</td>\n",
       "      <td>0</td>\n",
       "      <td>0</td>\n",
       "      <td>7.7500</td>\n",
       "      <td>Q</td>\n",
       "    </tr>\n",
       "  </tbody>\n",
       "</table>\n",
       "<p>712 rows × 9 columns</p>\n",
       "</div>"
      ],
      "text/plain": [
       "     PassengerId  Survived  Pclass  Sex   Age  SibSp  Parch     Fare Embarked\n",
       "0              1         0       3    0  22.0      1      0   7.2500        S\n",
       "1              2         1       1    1  38.0      1      0  71.2833        C\n",
       "2              3         1       3    1  26.0      0      0   7.9250        S\n",
       "3              4         1       1    1  35.0      1      0  53.1000        S\n",
       "4              5         0       3    0  35.0      0      0   8.0500        S\n",
       "..           ...       ...     ...  ...   ...    ...    ...      ...      ...\n",
       "885          886         0       3    1  39.0      0      5  29.1250        Q\n",
       "886          887         0       2    0  27.0      0      0  13.0000        S\n",
       "887          888         1       1    1  19.0      0      0  30.0000        S\n",
       "889          890         1       1    0  26.0      0      0  30.0000        C\n",
       "890          891         0       3    0  32.0      0      0   7.7500        Q\n",
       "\n",
       "[712 rows x 9 columns]"
      ]
     },
     "execution_count": 12,
     "metadata": {},
     "output_type": "execute_result"
    }
   ],
   "source": [
    "data"
   ]
  },
  {
   "cell_type": "code",
   "execution_count": 13,
   "id": "a7c19f03",
   "metadata": {},
   "outputs": [
    {
     "data": {
      "text/plain": [
       "array(['S', 'C', 'Q'], dtype=object)"
      ]
     },
     "execution_count": 13,
     "metadata": {},
     "output_type": "execute_result"
    }
   ],
   "source": [
    "data[\"Embarked\"].unique()"
   ]
  },
  {
   "cell_type": "markdown",
   "id": "22fcaaed",
   "metadata": {},
   "source": [
    "### encodages de la colonne Embarked"
   ]
  },
  {
   "cell_type": "code",
   "execution_count": 14,
   "id": "e25e3133",
   "metadata": {},
   "outputs": [],
   "source": [
    "data[\"Embarked\"].replace({\"S\": 0, \"Q\": 1,\"C\": 2}, inplace=True)"
   ]
  },
  {
   "cell_type": "code",
   "execution_count": 15,
   "id": "51346cc8",
   "metadata": {},
   "outputs": [
    {
     "data": {
      "text/html": [
       "<div>\n",
       "<style scoped>\n",
       "    .dataframe tbody tr th:only-of-type {\n",
       "        vertical-align: middle;\n",
       "    }\n",
       "\n",
       "    .dataframe tbody tr th {\n",
       "        vertical-align: top;\n",
       "    }\n",
       "\n",
       "    .dataframe thead th {\n",
       "        text-align: right;\n",
       "    }\n",
       "</style>\n",
       "<table border=\"1\" class=\"dataframe\">\n",
       "  <thead>\n",
       "    <tr style=\"text-align: right;\">\n",
       "      <th></th>\n",
       "      <th>PassengerId</th>\n",
       "      <th>Survived</th>\n",
       "      <th>Pclass</th>\n",
       "      <th>Sex</th>\n",
       "      <th>Age</th>\n",
       "      <th>SibSp</th>\n",
       "      <th>Parch</th>\n",
       "      <th>Fare</th>\n",
       "      <th>Embarked</th>\n",
       "    </tr>\n",
       "  </thead>\n",
       "  <tbody>\n",
       "    <tr>\n",
       "      <th>0</th>\n",
       "      <td>1</td>\n",
       "      <td>0</td>\n",
       "      <td>3</td>\n",
       "      <td>0</td>\n",
       "      <td>22.0</td>\n",
       "      <td>1</td>\n",
       "      <td>0</td>\n",
       "      <td>7.2500</td>\n",
       "      <td>0</td>\n",
       "    </tr>\n",
       "    <tr>\n",
       "      <th>1</th>\n",
       "      <td>2</td>\n",
       "      <td>1</td>\n",
       "      <td>1</td>\n",
       "      <td>1</td>\n",
       "      <td>38.0</td>\n",
       "      <td>1</td>\n",
       "      <td>0</td>\n",
       "      <td>71.2833</td>\n",
       "      <td>2</td>\n",
       "    </tr>\n",
       "    <tr>\n",
       "      <th>2</th>\n",
       "      <td>3</td>\n",
       "      <td>1</td>\n",
       "      <td>3</td>\n",
       "      <td>1</td>\n",
       "      <td>26.0</td>\n",
       "      <td>0</td>\n",
       "      <td>0</td>\n",
       "      <td>7.9250</td>\n",
       "      <td>0</td>\n",
       "    </tr>\n",
       "    <tr>\n",
       "      <th>3</th>\n",
       "      <td>4</td>\n",
       "      <td>1</td>\n",
       "      <td>1</td>\n",
       "      <td>1</td>\n",
       "      <td>35.0</td>\n",
       "      <td>1</td>\n",
       "      <td>0</td>\n",
       "      <td>53.1000</td>\n",
       "      <td>0</td>\n",
       "    </tr>\n",
       "    <tr>\n",
       "      <th>4</th>\n",
       "      <td>5</td>\n",
       "      <td>0</td>\n",
       "      <td>3</td>\n",
       "      <td>0</td>\n",
       "      <td>35.0</td>\n",
       "      <td>0</td>\n",
       "      <td>0</td>\n",
       "      <td>8.0500</td>\n",
       "      <td>0</td>\n",
       "    </tr>\n",
       "    <tr>\n",
       "      <th>...</th>\n",
       "      <td>...</td>\n",
       "      <td>...</td>\n",
       "      <td>...</td>\n",
       "      <td>...</td>\n",
       "      <td>...</td>\n",
       "      <td>...</td>\n",
       "      <td>...</td>\n",
       "      <td>...</td>\n",
       "      <td>...</td>\n",
       "    </tr>\n",
       "    <tr>\n",
       "      <th>885</th>\n",
       "      <td>886</td>\n",
       "      <td>0</td>\n",
       "      <td>3</td>\n",
       "      <td>1</td>\n",
       "      <td>39.0</td>\n",
       "      <td>0</td>\n",
       "      <td>5</td>\n",
       "      <td>29.1250</td>\n",
       "      <td>1</td>\n",
       "    </tr>\n",
       "    <tr>\n",
       "      <th>886</th>\n",
       "      <td>887</td>\n",
       "      <td>0</td>\n",
       "      <td>2</td>\n",
       "      <td>0</td>\n",
       "      <td>27.0</td>\n",
       "      <td>0</td>\n",
       "      <td>0</td>\n",
       "      <td>13.0000</td>\n",
       "      <td>0</td>\n",
       "    </tr>\n",
       "    <tr>\n",
       "      <th>887</th>\n",
       "      <td>888</td>\n",
       "      <td>1</td>\n",
       "      <td>1</td>\n",
       "      <td>1</td>\n",
       "      <td>19.0</td>\n",
       "      <td>0</td>\n",
       "      <td>0</td>\n",
       "      <td>30.0000</td>\n",
       "      <td>0</td>\n",
       "    </tr>\n",
       "    <tr>\n",
       "      <th>889</th>\n",
       "      <td>890</td>\n",
       "      <td>1</td>\n",
       "      <td>1</td>\n",
       "      <td>0</td>\n",
       "      <td>26.0</td>\n",
       "      <td>0</td>\n",
       "      <td>0</td>\n",
       "      <td>30.0000</td>\n",
       "      <td>2</td>\n",
       "    </tr>\n",
       "    <tr>\n",
       "      <th>890</th>\n",
       "      <td>891</td>\n",
       "      <td>0</td>\n",
       "      <td>3</td>\n",
       "      <td>0</td>\n",
       "      <td>32.0</td>\n",
       "      <td>0</td>\n",
       "      <td>0</td>\n",
       "      <td>7.7500</td>\n",
       "      <td>1</td>\n",
       "    </tr>\n",
       "  </tbody>\n",
       "</table>\n",
       "<p>712 rows × 9 columns</p>\n",
       "</div>"
      ],
      "text/plain": [
       "     PassengerId  Survived  Pclass  Sex   Age  SibSp  Parch     Fare  Embarked\n",
       "0              1         0       3    0  22.0      1      0   7.2500         0\n",
       "1              2         1       1    1  38.0      1      0  71.2833         2\n",
       "2              3         1       3    1  26.0      0      0   7.9250         0\n",
       "3              4         1       1    1  35.0      1      0  53.1000         0\n",
       "4              5         0       3    0  35.0      0      0   8.0500         0\n",
       "..           ...       ...     ...  ...   ...    ...    ...      ...       ...\n",
       "885          886         0       3    1  39.0      0      5  29.1250         1\n",
       "886          887         0       2    0  27.0      0      0  13.0000         0\n",
       "887          888         1       1    1  19.0      0      0  30.0000         0\n",
       "889          890         1       1    0  26.0      0      0  30.0000         2\n",
       "890          891         0       3    0  32.0      0      0   7.7500         1\n",
       "\n",
       "[712 rows x 9 columns]"
      ]
     },
     "execution_count": 15,
     "metadata": {},
     "output_type": "execute_result"
    }
   ],
   "source": [
    "data"
   ]
  },
  {
   "cell_type": "code",
   "execution_count": 16,
   "id": "ee47956f",
   "metadata": {},
   "outputs": [
    {
     "data": {
      "text/plain": [
       "array([0, 2, 1], dtype=int64)"
      ]
     },
     "execution_count": 16,
     "metadata": {},
     "output_type": "execute_result"
    }
   ],
   "source": [
    "data[\"Embarked\"].unique()"
   ]
  },
  {
   "cell_type": "markdown",
   "id": "f065cf8a",
   "metadata": {},
   "source": [
    "### Affichage de la matrice de confusion"
   ]
  },
  {
   "cell_type": "code",
   "execution_count": 17,
   "id": "12a1ef86",
   "metadata": {},
   "outputs": [
    {
     "data": {
      "image/png": "[encoded data removed]",
      "text/plain": [
       "<Figure size 720x432 with 2 Axes>"
      ]
     },
     "metadata": {
      "needs_background": "light"
     },
     "output_type": "display_data"
    }
   ],
   "source": [
    "import matplotlib.pyplot as plt\n",
    "import seaborn as sns\n",
    " \n",
    "correlation_mat = data.corr()\n",
    "plt.figure(figsize=(10, 6))\n",
    "sns.heatmap(correlation_mat, annot = True)\n",
    "plt.show()"
   ]
  },
  {
   "cell_type": "markdown",
   "id": "d8a66d46",
   "metadata": {},
   "source": [
    "- Nous avons des valeur de correlation entre les variable inferieur a 0.5 ce qui signifie , qu'on a garder que les variables interessantes et qui importent pas les memes informations "
   ]
  },
  {
   "cell_type": "markdown",
   "id": "983aff3b",
   "metadata": {},
   "source": [
    "## Traitement :"
   ]
  },
  {
   "cell_type": "code",
   "execution_count": 18,
   "id": "f70e92cd",
   "metadata": {},
   "outputs": [],
   "source": [
    "from sklearn.model_selection import train_test_split\n",
    "from sklearn.neural_network import MLPClassifier"
   ]
  },
  {
   "cell_type": "code",
   "execution_count": 19,
   "id": "772a9f9b",
   "metadata": {},
   "outputs": [],
   "source": [
    "X=data.drop(\"Survived\" , axis=1)\n",
    "y=data[\"Survived\"]"
   ]
  },
  {
   "cell_type": "code",
   "execution_count": 20,
   "id": "6d933fca",
   "metadata": {},
   "outputs": [],
   "source": [
    "X_train, X_test, y_train, y_test = train_test_split(X, y, test_size=0.3)"
   ]
  },
  {
   "cell_type": "markdown",
   "id": "941316b5",
   "metadata": {},
   "source": [
    "#### LA normalisation des données"
   ]
  },
  {
   "cell_type": "code",
   "execution_count": 21,
   "id": "480737b4",
   "metadata": {},
   "outputs": [],
   "source": [
    "#Le processus de normalisation\n",
    "from sklearn.preprocessing import StandardScaler\n",
    "scaler = StandardScaler()\n",
    "scaler.fit(X_train)\n",
    "X_train = scaler.transform(X_train)\n",
    "X_test = scaler.transform(X_test)"
   ]
  },
  {
   "cell_type": "markdown",
   "id": "2a3f597c",
   "metadata": {},
   "source": [
    "#### Génération de 5 architechtures de différents nombre de couches cachées et de nombre de neurones contenant chacune d'eux"
   ]
  },
  {
   "cell_type": "code",
   "execution_count": 22,
   "id": "448f0cdd",
   "metadata": {},
   "outputs": [],
   "source": [
    "import random\n",
    "import time\n",
    "new_one=[x for x in range(10,251)]\n",
    "hidden_layer_sizes=[]\n",
    "dict2={}\n",
    "for i in range (1,6):\n",
    "    hidden_layer_sizes=[]\n",
    "    for k in range(1,i+1):\n",
    "        hidden_layer_sizes.append(random.choice(new_one))\n",
    "    dict2[\"architecture_ :\"+str(i)+\"couche_caché et \"+str(hidden_layer_sizes)+'neurones']=hidden_layer_sizes\n"
   ]
  },
  {
   "cell_type": "markdown",
   "id": "f7800e24",
   "metadata": {},
   "source": [
    "nous avons gardés les memes architectures obtenues en ci dessous , et nous avons tester les meilleur score donnés en changant les solveurs (adam ,sgd) et en changant les fonction d'activation(logistic,relu ,tangt..)"
   ]
  },
  {
   "cell_type": "markdown",
   "id": "6714e00e",
   "metadata": {},
   "source": [
    "### Solveur Adam"
   ]
  },
  {
   "cell_type": "markdown",
   "id": "bd5c6b3b",
   "metadata": {},
   "source": [
    "###### a-) fonction relu"
   ]
  },
  {
   "cell_type": "code",
   "execution_count": 38,
   "id": "44d0bf23",
   "metadata": {},
   "outputs": [
    {
     "name": "stdout",
     "output_type": "stream",
     "text": [
      "[212]\n"
     ]
    },
    {
     "name": "stderr",
     "output_type": "stream",
     "text": [
      "C:\\Users\\lenovo\\anaconda3\\lib\\site-packages\\sklearn\\neural_network\\_multilayer_perceptron.py:582: ConvergenceWarning: Stochastic Optimizer: Maximum iterations (200) reached and the optimization hasn't converged yet.\n",
      "  warnings.warn(\n"
     ]
    },
    {
     "name": "stdout",
     "output_type": "stream",
     "text": [
      "temps ecoule = 1.456418514251709\n",
      "200\n",
      "[159, 71]\n"
     ]
    },
    {
     "name": "stderr",
     "output_type": "stream",
     "text": [
      "C:\\Users\\lenovo\\anaconda3\\lib\\site-packages\\sklearn\\neural_network\\_multilayer_perceptron.py:582: ConvergenceWarning: Stochastic Optimizer: Maximum iterations (200) reached and the optimization hasn't converged yet.\n",
      "  warnings.warn(\n"
     ]
    },
    {
     "name": "stdout",
     "output_type": "stream",
     "text": [
      "temps ecoule = 3.3747098445892334\n",
      "200\n",
      "[120, 206, 39]\n"
     ]
    },
    {
     "name": "stderr",
     "output_type": "stream",
     "text": [
      "C:\\Users\\lenovo\\anaconda3\\lib\\site-packages\\sklearn\\neural_network\\_multilayer_perceptron.py:582: ConvergenceWarning: Stochastic Optimizer: Maximum iterations (200) reached and the optimization hasn't converged yet.\n",
      "  warnings.warn(\n"
     ]
    },
    {
     "name": "stdout",
     "output_type": "stream",
     "text": [
      "temps ecoule = 5.974853754043579\n",
      "200\n",
      "[222, 61, 186, 224]\n",
      "temps ecoule = 6.235662460327148\n",
      "141\n",
      "[174, 215, 227, 218, 173]\n",
      "temps ecoule = 9.363086223602295\n",
      "106\n",
      " les valeurs des scores obtenue : [0.7850467289719626, 0.7757009345794392, 0.7476635514018691, 0.7616822429906542, 0.7757009345794392]\n"
     ]
    },
    {
     "data": {
      "text/plain": [
       "{'architecture_0': [212],\n",
       " 'architecture_1': [159, 71],\n",
       " 'architecture_2': [120, 206, 39],\n",
       " 'architecture_3': [222, 61, 186, 224],\n",
       " 'architecture_4': [174, 215, 227, 218, 173]}"
      ]
     },
     "execution_count": 38,
     "metadata": {},
     "output_type": "execute_result"
    }
   ],
   "source": [
    "test_score5=[]\n",
    "nmbr_iteration=[]\n",
    "temps=[]\n",
    "dictresultat={}\n",
    "j=0\n",
    "for i in dict2.keys():  \n",
    "    start_time = time.time()\n",
    "    clf_sgd = MLPClassifier(solver='adam',\n",
    "            hidden_layer_sizes=(dict2[i]), activation ='relu' ,random_state=1) \n",
    "    print(dict2[i])\n",
    "    clf_sgd.fit(X_train,y_train)\n",
    "    clf_sgd.predict(X_test)\n",
    "    test_score5.append(clf_sgd.score(X_test, y_test))\n",
    "    end_time = time.time()\n",
    "    print('temps ecoule = '+str(end_time - start_time))\n",
    "    print(clf_sgd.n_iter_)\n",
    "    temps.append(end_time - start_time)\n",
    "    nmbr_iteration.append(clf_sgd.n_iter_)\n",
    "    dictresultat['architecture_'+str(j)]=dict2[i]\n",
    "    j=j+1\n",
    "print(\" les valeurs des scores obtenue :\" ,test_score5)\n",
    "dictresultat"
   ]
  },
  {
   "cell_type": "markdown",
   "id": "c3031625",
   "metadata": {},
   "source": [
    "###### b-) fonction logistic"
   ]
  },
  {
   "cell_type": "code",
   "execution_count": 39,
   "id": "0200e7bd",
   "metadata": {},
   "outputs": [
    {
     "name": "stdout",
     "output_type": "stream",
     "text": [
      "[212]\n",
      "temps ecoule = 1.927656650543213\n",
      "140\n",
      "[159, 71]\n",
      "temps ecoule = 1.9780027866363525\n",
      "145\n",
      "[120, 206, 39]\n",
      "temps ecoule = 2.6036086082458496\n",
      "145\n",
      "[222, 61, 186, 224]\n",
      "temps ecoule = 4.227685451507568\n",
      "119\n",
      "[174, 215, 227, 218, 173]\n",
      "temps ecoule = 6.8164002895355225\n",
      "97\n",
      " les valeurs des scores obtenue : [0.7897196261682243, 0.794392523364486, 0.7897196261682243, 0.780373831775701, 0.8037383177570093]\n"
     ]
    },
    {
     "data": {
      "text/plain": [
       "{'architecture_0': [212],\n",
       " 'architecture_1': [159, 71],\n",
       " 'architecture_2': [120, 206, 39],\n",
       " 'architecture_3': [222, 61, 186, 224],\n",
       " 'architecture_4': [174, 215, 227, 218, 173]}"
      ]
     },
     "execution_count": 39,
     "metadata": {},
     "output_type": "execute_result"
    }
   ],
   "source": [
    "test_score5=[]\n",
    "nmbr_iteration=[]\n",
    "temps=[]\n",
    "dictresultat={}\n",
    "j=0\n",
    "for i in dict2.keys():  \n",
    "    start_time = time.time()\n",
    "    clf_sgd = MLPClassifier(solver='adam',\n",
    "            hidden_layer_sizes=(dict2[i]), activation ='logistic' ,random_state=1) \n",
    "    print(dict2[i])\n",
    "    clf_sgd.fit(X_train,y_train)\n",
    "    clf_sgd.predict(X_test)\n",
    "    test_score5.append(clf_sgd.score(X_test, y_test))\n",
    "    end_time = time.time()\n",
    "    print('temps ecoule = '+str(end_time - start_time))\n",
    "    print(clf_sgd.n_iter_)\n",
    "    temps.append(end_time - start_time)\n",
    "    nmbr_iteration.append(clf_sgd.n_iter_)\n",
    "    dictresultat['architecture_'+str(j)]=dict2[i]\n",
    "    j=j+1\n",
    "print(\" les valeurs des scores obtenue :\" ,test_score5)\n",
    "dictresultat"
   ]
  },
  {
   "cell_type": "markdown",
   "id": "ac354562",
   "metadata": {},
   "source": [
    "###### c-) fonction tanh"
   ]
  },
  {
   "cell_type": "code",
   "execution_count": 26,
   "id": "4ce89e84",
   "metadata": {},
   "outputs": [
    {
     "name": "stdout",
     "output_type": "stream",
     "text": [
      "[237]\n"
     ]
    },
    {
     "name": "stderr",
     "output_type": "stream",
     "text": [
      "C:\\Users\\lenovo\\anaconda3\\lib\\site-packages\\sklearn\\neural_network\\_multilayer_perceptron.py:582: ConvergenceWarning: Stochastic Optimizer: Maximum iterations (200) reached and the optimization hasn't converged yet.\n",
      "  warnings.warn(\n"
     ]
    },
    {
     "name": "stdout",
     "output_type": "stream",
     "text": [
      "temps ecoule = 1.5190515518188477\n",
      "200\n",
      "[16, 238]\n"
     ]
    },
    {
     "name": "stderr",
     "output_type": "stream",
     "text": [
      "C:\\Users\\lenovo\\anaconda3\\lib\\site-packages\\sklearn\\neural_network\\_multilayer_perceptron.py:582: ConvergenceWarning: Stochastic Optimizer: Maximum iterations (200) reached and the optimization hasn't converged yet.\n",
      "  warnings.warn(\n"
     ]
    },
    {
     "name": "stdout",
     "output_type": "stream",
     "text": [
      "temps ecoule = 3.3544998168945312\n",
      "200\n",
      "[15, 37, 21]\n"
     ]
    },
    {
     "name": "stderr",
     "output_type": "stream",
     "text": [
      "C:\\Users\\lenovo\\anaconda3\\lib\\site-packages\\sklearn\\neural_network\\_multilayer_perceptron.py:582: ConvergenceWarning: Stochastic Optimizer: Maximum iterations (200) reached and the optimization hasn't converged yet.\n",
      "  warnings.warn(\n"
     ]
    },
    {
     "name": "stdout",
     "output_type": "stream",
     "text": [
      "temps ecoule = 1.2766413688659668\n",
      "200\n",
      "[34, 24, 207, 11]\n"
     ]
    },
    {
     "name": "stderr",
     "output_type": "stream",
     "text": [
      "C:\\Users\\lenovo\\anaconda3\\lib\\site-packages\\sklearn\\neural_network\\_multilayer_perceptron.py:582: ConvergenceWarning: Stochastic Optimizer: Maximum iterations (200) reached and the optimization hasn't converged yet.\n",
      "  warnings.warn(\n"
     ]
    },
    {
     "name": "stdout",
     "output_type": "stream",
     "text": [
      "temps ecoule = 4.2756311893463135\n",
      "200\n",
      "[89, 32, 41, 173, 239]\n",
      "temps ecoule = 6.875432252883911\n",
      "200\n",
      " les valeurs des scores obtenue : [0.7616822429906542, 0.7897196261682243, 0.8037383177570093, 0.7710280373831776, 0.7336448598130841]\n"
     ]
    },
    {
     "name": "stderr",
     "output_type": "stream",
     "text": [
      "C:\\Users\\lenovo\\anaconda3\\lib\\site-packages\\sklearn\\neural_network\\_multilayer_perceptron.py:582: ConvergenceWarning: Stochastic Optimizer: Maximum iterations (200) reached and the optimization hasn't converged yet.\n",
      "  warnings.warn(\n"
     ]
    },
    {
     "data": {
      "text/plain": [
       "{'architecture_0': [237],\n",
       " 'architecture_1': [16, 238],\n",
       " 'architecture_2': [15, 37, 21],\n",
       " 'architecture_3': [34, 24, 207, 11],\n",
       " 'architecture_4': [89, 32, 41, 173, 239]}"
      ]
     },
     "execution_count": 26,
     "metadata": {},
     "output_type": "execute_result"
    }
   ],
   "source": [
    "test_score5=[]\n",
    "nmbr_iteration=[]\n",
    "temps=[]\n",
    "dictresultat={}\n",
    "j=0\n",
    "for i in dict2.keys():  \n",
    "    start_time = time.time()\n",
    "    clf_sgd = MLPClassifier(solver='adam',\n",
    "            hidden_layer_sizes=(dict2[i]), activation ='tanh' ,random_state=1) \n",
    "    print(dict2[i])\n",
    "    clf_sgd.fit(X_train,y_train)\n",
    "    clf_sgd.predict(X_test)\n",
    "    test_score5.append(clf_sgd.score(X_test, y_test))\n",
    "    end_time = time.time()\n",
    "    print('temps ecoule = '+str(end_time - start_time))\n",
    "    print(clf_sgd.n_iter_)\n",
    "    temps.append(end_time - start_time)\n",
    "    nmbr_iteration.append(clf_sgd.n_iter_)\n",
    "    dictresultat['architecture_'+str(j)]=dict2[i]\n",
    "    j=j+1\n",
    "print(\" les valeurs des scores obtenue :\" ,test_score5)\n",
    "dictresultat"
   ]
  },
  {
   "cell_type": "markdown",
   "id": "14900578",
   "metadata": {},
   "source": [
    "### Solveur sgd"
   ]
  },
  {
   "cell_type": "markdown",
   "id": "02d01325",
   "metadata": {},
   "source": [
    "###### a-) fonction relu"
   ]
  },
  {
   "cell_type": "code",
   "execution_count": 28,
   "id": "69fd1f9f",
   "metadata": {},
   "outputs": [
    {
     "name": "stdout",
     "output_type": "stream",
     "text": [
      "[237]\n"
     ]
    },
    {
     "name": "stderr",
     "output_type": "stream",
     "text": [
      "C:\\Users\\lenovo\\anaconda3\\lib\\site-packages\\sklearn\\neural_network\\_multilayer_perceptron.py:582: ConvergenceWarning: Stochastic Optimizer: Maximum iterations (200) reached and the optimization hasn't converged yet.\n",
      "  warnings.warn(\n"
     ]
    },
    {
     "name": "stdout",
     "output_type": "stream",
     "text": [
      "temps ecoule = 2.963035821914673\n",
      "200\n",
      "[16, 238]\n"
     ]
    },
    {
     "name": "stderr",
     "output_type": "stream",
     "text": [
      "C:\\Users\\lenovo\\anaconda3\\lib\\site-packages\\sklearn\\neural_network\\_multilayer_perceptron.py:582: ConvergenceWarning: Stochastic Optimizer: Maximum iterations (200) reached and the optimization hasn't converged yet.\n",
      "  warnings.warn(\n"
     ]
    },
    {
     "name": "stdout",
     "output_type": "stream",
     "text": [
      "temps ecoule = 4.896170139312744\n",
      "200\n",
      "[15, 37, 21]\n"
     ]
    },
    {
     "name": "stderr",
     "output_type": "stream",
     "text": [
      "C:\\Users\\lenovo\\anaconda3\\lib\\site-packages\\sklearn\\neural_network\\_multilayer_perceptron.py:582: ConvergenceWarning: Stochastic Optimizer: Maximum iterations (200) reached and the optimization hasn't converged yet.\n",
      "  warnings.warn(\n"
     ]
    },
    {
     "name": "stdout",
     "output_type": "stream",
     "text": [
      "temps ecoule = 1.3742711544036865\n",
      "200\n",
      "[34, 24, 207, 11]\n"
     ]
    },
    {
     "name": "stderr",
     "output_type": "stream",
     "text": [
      "C:\\Users\\lenovo\\anaconda3\\lib\\site-packages\\sklearn\\neural_network\\_multilayer_perceptron.py:582: ConvergenceWarning: Stochastic Optimizer: Maximum iterations (200) reached and the optimization hasn't converged yet.\n",
      "  warnings.warn(\n"
     ]
    },
    {
     "name": "stdout",
     "output_type": "stream",
     "text": [
      "temps ecoule = 4.6803998947143555\n",
      "200\n",
      "[89, 32, 41, 173, 239]\n",
      "temps ecoule = 8.893437147140503\n",
      "200\n",
      " les valeurs des scores obtenue : [0.7523364485981309, 0.7429906542056075, 0.7616822429906542, 0.7383177570093458, 0.7570093457943925]\n"
     ]
    },
    {
     "name": "stderr",
     "output_type": "stream",
     "text": [
      "C:\\Users\\lenovo\\anaconda3\\lib\\site-packages\\sklearn\\neural_network\\_multilayer_perceptron.py:582: ConvergenceWarning: Stochastic Optimizer: Maximum iterations (200) reached and the optimization hasn't converged yet.\n",
      "  warnings.warn(\n"
     ]
    },
    {
     "data": {
      "text/plain": [
       "{'architecture_0': [237],\n",
       " 'architecture_1': [16, 238],\n",
       " 'architecture_2': [15, 37, 21],\n",
       " 'architecture_3': [34, 24, 207, 11],\n",
       " 'architecture_4': [89, 32, 41, 173, 239]}"
      ]
     },
     "execution_count": 28,
     "metadata": {},
     "output_type": "execute_result"
    }
   ],
   "source": [
    "test_score4=[]\n",
    "nmbr_iteration=[]\n",
    "temps=[]\n",
    "dictresultat={}\n",
    "j=0\n",
    "for i in dict2.keys():  \n",
    "    start_time = time.time()\n",
    "    clf_sgd = MLPClassifier(solver='sgd',\n",
    "            hidden_layer_sizes=(dict2[i]),activation ='relu', random_state=1) \n",
    "    print(dict2[i])\n",
    "    clf_sgd.fit(X_train,y_train)\n",
    "    clf_sgd.predict(X_test)\n",
    "    test_score4.append(clf_sgd.score(X_test, y_test))\n",
    "    end_time = time.time()\n",
    "    print('temps ecoule = '+str(end_time - start_time))\n",
    "    print(clf_sgd.n_iter_)\n",
    "    temps.append(end_time - start_time)\n",
    "    nmbr_iteration.append(clf_sgd.n_iter_)\n",
    "    dictresultat['architecture_'+str(j)]=dict2[i]\n",
    "    j=j+1\n",
    "print(\" les valeurs des scores obtenue :\" ,test_score4)\n",
    "dictresultat"
   ]
  },
  {
   "cell_type": "code",
   "execution_count": null,
   "id": "ad41442d",
   "metadata": {},
   "outputs": [],
   "source": [
    "###### a-) fonction relu"
   ]
  },
  {
   "cell_type": "code",
   "execution_count": 43,
   "id": "d7a51f08",
   "metadata": {},
   "outputs": [
    {
     "name": "stdout",
     "output_type": "stream",
     "text": [
      "[193]\n"
     ]
    },
    {
     "name": "stderr",
     "output_type": "stream",
     "text": [
      "C:\\Users\\lenovo\\anaconda3\\lib\\site-packages\\sklearn\\neural_network\\_multilayer_perceptron.py:582: ConvergenceWarning: Stochastic Optimizer: Maximum iterations (200) reached and the optimization hasn't converged yet.\n",
      "  warnings.warn(\n"
     ]
    },
    {
     "name": "stdout",
     "output_type": "stream",
     "text": [
      "temps ecoule = 1.0987129211425781\n",
      "200\n",
      "[149, 187]\n",
      "temps ecoule = 0.19687199592590332\n",
      "18\n",
      "[70, 72, 134]\n",
      "temps ecoule = 0.21433305740356445\n",
      "20\n",
      "[36, 68, 57, 94]\n",
      "temps ecoule = 0.2762291431427002\n",
      "23\n",
      "[81, 227, 113, 37, 70]\n",
      "temps ecoule = 0.5750324726104736\n",
      "26\n",
      " les valeurs des scores obtenue : [0.6495327102803738, 0.6074766355140186, 0.6074766355140186, 0.6074766355140186, 0.6074766355140186]\n"
     ]
    },
    {
     "data": {
      "text/plain": [
       "{'architecture_0': [193],\n",
       " 'architecture_1': [149, 187],\n",
       " 'architecture_2': [70, 72, 134],\n",
       " 'architecture_3': [36, 68, 57, 94],\n",
       " 'architecture_4': [81, 227, 113, 37, 70]}"
      ]
     },
     "execution_count": 43,
     "metadata": {},
     "output_type": "execute_result"
    }
   ],
   "source": [
    "test_score5=[]\n",
    "nmbr_iteration=[]\n",
    "temps=[]\n",
    "dictresultat={}\n",
    "j=0\n",
    "for i in dict2.keys():  \n",
    "    start_time = time.time()\n",
    "    clf_sgd = MLPClassifier(solver='sgd',\n",
    "            hidden_layer_sizes=(dict2[i]), activation ='logistic' ,random_state=1) \n",
    "    print(dict2[i])\n",
    "    clf_sgd.fit(X_train,y_train)\n",
    "    clf_sgd.predict(X_test)\n",
    "    test_score5.append(clf_sgd.score(X_test, y_test))\n",
    "    end_time = time.time()\n",
    "    print('temps ecoule = '+str(end_time - start_time))\n",
    "    print(clf_sgd.n_iter_)\n",
    "    temps.append(end_time - start_time)\n",
    "    nmbr_iteration.append(clf_sgd.n_iter_)\n",
    "    dictresultat['architecture_'+str(j)]=dict2[i]\n",
    "    j=j+1\n",
    "print(\" les valeurs des scores obtenue :\" ,test_score5)\n",
    "dictresultat"
   ]
  },
  {
   "cell_type": "markdown",
   "id": "8acae65d",
   "metadata": {},
   "source": [
    "### La Meilleur Architechtures obtenus sont : "
   ]
  },
  {
   "cell_type": "markdown",
   "id": "eb2ece3d",
   "metadata": {},
   "source": [
    "###### I-   score:85% pour une architechturede deux couches couches cachés "
   ]
  },
  {
   "cell_type": "code",
   "execution_count": 75,
   "id": "1288fac6",
   "metadata": {},
   "outputs": [],
   "source": [
    "X_train, X_test, y_train, y_test = train_test_split(X, y, test_size=0.3)\n",
    "#Le processus de normalisation\n",
    "from sklearn.preprocessing import StandardScaler\n",
    "scaler = StandardScaler()\n",
    "scaler.fit(X_train)\n",
    "X_train = scaler.transform(X_train)\n",
    "X_test = scaler.transform(X_test)"
   ]
  },
  {
   "cell_type": "code",
   "execution_count": 76,
   "id": "05305876",
   "metadata": {},
   "outputs": [
    {
     "name": "stdout",
     "output_type": "stream",
     "text": [
      "[81, 227, 113, 37, 70]\n",
      "0.8504672897196262\n",
      "temps ecoule = 1.2177517414093018\n",
      "200\n"
     ]
    },
    {
     "name": "stderr",
     "output_type": "stream",
     "text": [
      "C:\\Users\\lenovo\\anaconda3\\lib\\site-packages\\sklearn\\neural_network\\_multilayer_perceptron.py:582: ConvergenceWarning: Stochastic Optimizer: Maximum iterations (200) reached and the optimization hasn't converged yet.\n",
      "  warnings.warn(\n"
     ]
    }
   ],
   "source": [
    "start_time = time.time()\n",
    "clf_sgd = MLPClassifier(solver='adam',\n",
    "hidden_layer_sizes=(174,38), activation ='logistic' ,random_state=1) \n",
    "print(dict2[i])\n",
    "clf_sgd.fit(X_train,y_train)\n",
    "clf_sgd.predict(X_test)\n",
    "print(clf_sgd.score(X_test, y_test))\n",
    "end_time = time.time()\n",
    "print('temps ecoule = '+str(end_time - start_time))\n",
    "print(clf_sgd.n_iter_)\n"
   ]
  },
  {
   "cell_type": "markdown",
   "id": "32b94061",
   "metadata": {},
   "source": [
    "###### II-   score:84% pour une architechturede trois couches couches cachés "
   ]
  },
  {
   "cell_type": "code",
   "execution_count": 77,
   "id": "3f397ba2",
   "metadata": {},
   "outputs": [
    {
     "name": "stdout",
     "output_type": "stream",
     "text": [
      "[81, 227, 113, 37, 70]\n",
      "0.8411214953271028\n",
      "temps ecoule = 2.1518290042877197\n",
      "146\n"
     ]
    }
   ],
   "source": [
    "start_time = time.time()\n",
    "clf_sgd = MLPClassifier(solver='adam',\n",
    "hidden_layer_sizes=(223,114,84), activation ='logistic' ,random_state=1) \n",
    "print(dict2[i])\n",
    "clf_sgd.fit(X_train,y_train)\n",
    "clf_sgd.predict(X_test)\n",
    "print(clf_sgd.score(X_test, y_test))\n",
    "end_time = time.time()\n",
    "print('temps ecoule = '+str(end_time - start_time))\n",
    "print(clf_sgd.n_iter_)\n"
   ]
  },
  {
   "cell_type": "code",
   "execution_count": null,
   "id": "e89a9335",
   "metadata": {},
   "outputs": [],
   "source": []
  },
  {
   "cell_type": "code",
   "execution_count": null,
   "id": "54f95843",
   "metadata": {},
   "outputs": [],
   "source": []
  }
 ],
 "metadata": {
  "kernelspec": {
   "display_name": "Python 3",
   "language": "python",
   "name": "python3"
  },
  "language_info": {
   "codemirror_mode": {
    "name": "ipython",
    "version": 3
   },
   "file_extension": ".py",
   "mimetype": "text/x-python",
   "name": "python",
   "nbconvert_exporter": "python",
   "pygments_lexer": "ipython3",
   "version": "3.8.5"
  }
 },
 "nbformat": 4,
 "nbformat_minor": 5
}
